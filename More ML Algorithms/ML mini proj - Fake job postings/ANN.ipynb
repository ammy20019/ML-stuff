{
 "cells": [
  {
   "cell_type": "code",
   "execution_count": 1,
   "metadata": {
    "id": "98LLciw1FuXG"
   },
   "outputs": [],
   "source": [
    "import numpy as np \n",
    "import pandas as pd \n",
    "import seaborn as sns\n",
    "import matplotlib.pyplot as plt\n",
    "%matplotlib inline\n",
    "import matplotlib as mpl\n",
    "from matplotlib import cm"
   ]
  },
  {
   "cell_type": "code",
   "execution_count": 2,
   "metadata": {
    "colab": {
     "base_uri": "https://localhost:8080/",
     "height": 504
    },
    "id": "ls44kMjEFy6i",
    "outputId": "30dc40cd-1006-479a-ff47-429d698be201"
   },
   "outputs": [
    {
     "data": {
      "text/html": [
       "<div>\n",
       "<style scoped>\n",
       "    .dataframe tbody tr th:only-of-type {\n",
       "        vertical-align: middle;\n",
       "    }\n",
       "\n",
       "    .dataframe tbody tr th {\n",
       "        vertical-align: top;\n",
       "    }\n",
       "\n",
       "    .dataframe thead th {\n",
       "        text-align: right;\n",
       "    }\n",
       "</style>\n",
       "<table border=\"1\" class=\"dataframe\">\n",
       "  <thead>\n",
       "    <tr style=\"text-align: right;\">\n",
       "      <th></th>\n",
       "      <th>job_id</th>\n",
       "      <th>title</th>\n",
       "      <th>location</th>\n",
       "      <th>department</th>\n",
       "      <th>salary_range</th>\n",
       "      <th>company_profile</th>\n",
       "      <th>description</th>\n",
       "      <th>requirements</th>\n",
       "      <th>benefits</th>\n",
       "      <th>telecommuting</th>\n",
       "      <th>has_company_logo</th>\n",
       "      <th>has_questions</th>\n",
       "      <th>employment_type</th>\n",
       "      <th>required_experience</th>\n",
       "      <th>required_education</th>\n",
       "      <th>industry</th>\n",
       "      <th>function</th>\n",
       "      <th>fraudulent</th>\n",
       "    </tr>\n",
       "  </thead>\n",
       "  <tbody>\n",
       "    <tr>\n",
       "      <th>0</th>\n",
       "      <td>1</td>\n",
       "      <td>Marketing Intern</td>\n",
       "      <td>US, NY, New York</td>\n",
       "      <td>Marketing</td>\n",
       "      <td>NaN</td>\n",
       "      <td>We're Food52, and we've created a groundbreaki...</td>\n",
       "      <td>Food52, a fast-growing, James Beard Award-winn...</td>\n",
       "      <td>Experience with content management systems a m...</td>\n",
       "      <td>NaN</td>\n",
       "      <td>0</td>\n",
       "      <td>1</td>\n",
       "      <td>0</td>\n",
       "      <td>Other</td>\n",
       "      <td>Internship</td>\n",
       "      <td>NaN</td>\n",
       "      <td>NaN</td>\n",
       "      <td>Marketing</td>\n",
       "      <td>0</td>\n",
       "    </tr>\n",
       "    <tr>\n",
       "      <th>1</th>\n",
       "      <td>2</td>\n",
       "      <td>Customer Service - Cloud Video Production</td>\n",
       "      <td>NZ, , Auckland</td>\n",
       "      <td>Success</td>\n",
       "      <td>NaN</td>\n",
       "      <td>90 Seconds, the worlds Cloud Video Production ...</td>\n",
       "      <td>Organised - Focused - Vibrant - Awesome!Do you...</td>\n",
       "      <td>What we expect from you:Your key responsibilit...</td>\n",
       "      <td>What you will get from usThrough being part of...</td>\n",
       "      <td>0</td>\n",
       "      <td>1</td>\n",
       "      <td>0</td>\n",
       "      <td>Full-time</td>\n",
       "      <td>Not Applicable</td>\n",
       "      <td>NaN</td>\n",
       "      <td>Marketing and Advertising</td>\n",
       "      <td>Customer Service</td>\n",
       "      <td>0</td>\n",
       "    </tr>\n",
       "    <tr>\n",
       "      <th>2</th>\n",
       "      <td>3</td>\n",
       "      <td>Commissioning Machinery Assistant (CMA)</td>\n",
       "      <td>US, IA, Wever</td>\n",
       "      <td>NaN</td>\n",
       "      <td>NaN</td>\n",
       "      <td>Valor Services provides Workforce Solutions th...</td>\n",
       "      <td>Our client, located in Houston, is actively se...</td>\n",
       "      <td>Implement pre-commissioning and commissioning ...</td>\n",
       "      <td>NaN</td>\n",
       "      <td>0</td>\n",
       "      <td>1</td>\n",
       "      <td>0</td>\n",
       "      <td>NaN</td>\n",
       "      <td>NaN</td>\n",
       "      <td>NaN</td>\n",
       "      <td>NaN</td>\n",
       "      <td>NaN</td>\n",
       "      <td>0</td>\n",
       "    </tr>\n",
       "    <tr>\n",
       "      <th>3</th>\n",
       "      <td>4</td>\n",
       "      <td>Account Executive - Washington DC</td>\n",
       "      <td>US, DC, Washington</td>\n",
       "      <td>Sales</td>\n",
       "      <td>NaN</td>\n",
       "      <td>Our passion for improving quality of life thro...</td>\n",
       "      <td>THE COMPANY: ESRI – Environmental Systems Rese...</td>\n",
       "      <td>EDUCATION: Bachelor’s or Master’s in GIS, busi...</td>\n",
       "      <td>Our culture is anything but corporate—we have ...</td>\n",
       "      <td>0</td>\n",
       "      <td>1</td>\n",
       "      <td>0</td>\n",
       "      <td>Full-time</td>\n",
       "      <td>Mid-Senior level</td>\n",
       "      <td>Bachelor's Degree</td>\n",
       "      <td>Computer Software</td>\n",
       "      <td>Sales</td>\n",
       "      <td>0</td>\n",
       "    </tr>\n",
       "    <tr>\n",
       "      <th>4</th>\n",
       "      <td>5</td>\n",
       "      <td>Bill Review Manager</td>\n",
       "      <td>US, FL, Fort Worth</td>\n",
       "      <td>NaN</td>\n",
       "      <td>NaN</td>\n",
       "      <td>SpotSource Solutions LLC is a Global Human Cap...</td>\n",
       "      <td>JOB TITLE: Itemization Review ManagerLOCATION:...</td>\n",
       "      <td>QUALIFICATIONS:RN license in the State of Texa...</td>\n",
       "      <td>Full Benefits Offered</td>\n",
       "      <td>0</td>\n",
       "      <td>1</td>\n",
       "      <td>1</td>\n",
       "      <td>Full-time</td>\n",
       "      <td>Mid-Senior level</td>\n",
       "      <td>Bachelor's Degree</td>\n",
       "      <td>Hospital &amp; Health Care</td>\n",
       "      <td>Health Care Provider</td>\n",
       "      <td>0</td>\n",
       "    </tr>\n",
       "  </tbody>\n",
       "</table>\n",
       "</div>"
      ],
      "text/plain": [
       "   job_id  ... fraudulent\n",
       "0       1  ...          0\n",
       "1       2  ...          0\n",
       "2       3  ...          0\n",
       "3       4  ...          0\n",
       "4       5  ...          0\n",
       "\n",
       "[5 rows x 18 columns]"
      ]
     },
     "execution_count": 2,
     "metadata": {
      "tags": []
     },
     "output_type": "execute_result"
    }
   ],
   "source": [
    "df=pd.read_csv('https://raw.githubusercontent.com/ammy20019/ML-stuff/master/fake_job_postings.csv')\n",
    "df.head()"
   ]
  },
  {
   "cell_type": "code",
   "execution_count": 3,
   "metadata": {
    "id": "W6tJrC8MF9Fj"
   },
   "outputs": [],
   "source": [
    "df.dropna(subset=['required_education'],axis=0,inplace=True)\n",
    "features=['job_id', 'company_profile','description' ,\t'requirements' ,\t'benefits']"
   ]
  },
  {
   "cell_type": "code",
   "execution_count": 9,
   "metadata": {
    "id": "FljUe1j4GpWL"
   },
   "outputs": [],
   "source": [
    "df.drop(features,axis=1,inplace=True)"
   ]
  },
  {
   "cell_type": "code",
   "execution_count": 10,
   "metadata": {
    "id": "Ng2lJ_REF9Hy"
   },
   "outputs": [],
   "source": [
    "df['location']=df['location'].astype(str)\n",
    "df['department']=df['department'].astype(str)\n",
    "df['salary_range']=df['salary_range'].astype(str)\n",
    "df['employment_type']=df['employment_type'].astype(str)\n",
    "df['required_experience']=df['required_experience'].astype(str)\n",
    "df['required_education']=df['required_education'].astype(str)\n",
    "df['industry']=df['industry'].astype(str)\n",
    "df['function']=df['function'].astype(str)"
   ]
  },
  {
   "cell_type": "code",
   "execution_count": 11,
   "metadata": {
    "colab": {
     "base_uri": "https://localhost:8080/"
    },
    "id": "PecdJ-z_GTcy",
    "outputId": "eace08da-dadf-44e0-bc8e-fc764ceb1162"
   },
   "outputs": [
    {
     "data": {
      "text/plain": [
       "['location',\n",
       " 'department',\n",
       " 'salary_range',\n",
       " 'employment_type',\n",
       " 'required_experience',\n",
       " 'required_education',\n",
       " 'industry',\n",
       " 'function']"
      ]
     },
     "execution_count": 11,
     "metadata": {
      "tags": []
     },
     "output_type": "execute_result"
    }
   ],
   "source": [
    "categorical=df.select_dtypes('object').columns.tolist()\n",
    "categorical"
   ]
  },
  {
   "cell_type": "code",
   "execution_count": 8,
   "metadata": {
    "colab": {
     "base_uri": "https://localhost:8080/"
    },
    "id": "WWuwgio1GcvN",
    "outputId": "3fe9bda5-2f6e-4004-cec7-47aa0a065a2d"
   },
   "outputs": [
    {
     "data": {
      "text/plain": [
       "job_id                  int64\n",
       "title                   int64\n",
       "location                int64\n",
       "department              int64\n",
       "salary_range            int64\n",
       "company_profile        object\n",
       "description            object\n",
       "requirements           object\n",
       "benefits               object\n",
       "telecommuting           int64\n",
       "has_company_logo        int64\n",
       "has_questions           int64\n",
       "employment_type        object\n",
       "required_experience    object\n",
       "required_education     object\n",
       "industry               object\n",
       "function               object\n",
       "fraudulent              int64\n",
       "dtype: object"
      ]
     },
     "execution_count": 8,
     "metadata": {
      "tags": []
     },
     "output_type": "execute_result"
    }
   ],
   "source": [
    "df.dtypes"
   ]
  },
  {
   "cell_type": "code",
   "execution_count": 12,
   "metadata": {
    "id": "5fNH5ZILGEri"
   },
   "outputs": [],
   "source": [
    "from sklearn.preprocessing import LabelEncoder\n",
    "le=LabelEncoder()\n",
    "for i in categorical:\n",
    "    df[i]=le.fit_transform(df[i])"
   ]
  },
  {
   "cell_type": "code",
   "execution_count": 13,
   "metadata": {
    "colab": {
     "base_uri": "https://localhost:8080/",
     "height": 226
    },
    "id": "EE9luKL_GH0S",
    "outputId": "2a085f05-d7fe-407f-8738-bc727a8aa29b"
   },
   "outputs": [
    {
     "data": {
      "text/html": [
       "<div>\n",
       "<style scoped>\n",
       "    .dataframe tbody tr th:only-of-type {\n",
       "        vertical-align: middle;\n",
       "    }\n",
       "\n",
       "    .dataframe tbody tr th {\n",
       "        vertical-align: top;\n",
       "    }\n",
       "\n",
       "    .dataframe thead th {\n",
       "        text-align: right;\n",
       "    }\n",
       "</style>\n",
       "<table border=\"1\" class=\"dataframe\">\n",
       "  <thead>\n",
       "    <tr style=\"text-align: right;\">\n",
       "      <th></th>\n",
       "      <th>title</th>\n",
       "      <th>location</th>\n",
       "      <th>department</th>\n",
       "      <th>salary_range</th>\n",
       "      <th>telecommuting</th>\n",
       "      <th>has_company_logo</th>\n",
       "      <th>has_questions</th>\n",
       "      <th>employment_type</th>\n",
       "      <th>required_experience</th>\n",
       "      <th>required_education</th>\n",
       "      <th>industry</th>\n",
       "      <th>function</th>\n",
       "      <th>fraudulent</th>\n",
       "    </tr>\n",
       "  </thead>\n",
       "  <tbody>\n",
       "    <tr>\n",
       "      <th>0</th>\n",
       "      <td>181</td>\n",
       "      <td>134</td>\n",
       "      <td>659</td>\n",
       "      <td>753</td>\n",
       "      <td>0</td>\n",
       "      <td>1</td>\n",
       "      <td>0</td>\n",
       "      <td>1</td>\n",
       "      <td>5</td>\n",
       "      <td>1</td>\n",
       "      <td>22</td>\n",
       "      <td>31</td>\n",
       "      <td>0</td>\n",
       "    </tr>\n",
       "    <tr>\n",
       "      <th>1</th>\n",
       "      <td>587</td>\n",
       "      <td>162</td>\n",
       "      <td>851</td>\n",
       "      <td>753</td>\n",
       "      <td>0</td>\n",
       "      <td>1</td>\n",
       "      <td>1</td>\n",
       "      <td>1</td>\n",
       "      <td>5</td>\n",
       "      <td>1</td>\n",
       "      <td>50</td>\n",
       "      <td>16</td>\n",
       "      <td>0</td>\n",
       "    </tr>\n",
       "    <tr>\n",
       "      <th>2</th>\n",
       "      <td>2453</td>\n",
       "      <td>391</td>\n",
       "      <td>257</td>\n",
       "      <td>192</td>\n",
       "      <td>0</td>\n",
       "      <td>1</td>\n",
       "      <td>1</td>\n",
       "      <td>1</td>\n",
       "      <td>5</td>\n",
       "      <td>5</td>\n",
       "      <td>88</td>\n",
       "      <td>20</td>\n",
       "      <td>0</td>\n",
       "    </tr>\n",
       "    <tr>\n",
       "      <th>3</th>\n",
       "      <td>1255</td>\n",
       "      <td>1938</td>\n",
       "      <td>851</td>\n",
       "      <td>753</td>\n",
       "      <td>0</td>\n",
       "      <td>1</td>\n",
       "      <td>0</td>\n",
       "      <td>3</td>\n",
       "      <td>2</td>\n",
       "      <td>4</td>\n",
       "      <td>39</td>\n",
       "      <td>7</td>\n",
       "      <td>0</td>\n",
       "    </tr>\n",
       "    <tr>\n",
       "      <th>4</th>\n",
       "      <td>139</td>\n",
       "      <td>643</td>\n",
       "      <td>851</td>\n",
       "      <td>545</td>\n",
       "      <td>0</td>\n",
       "      <td>0</td>\n",
       "      <td>0</td>\n",
       "      <td>1</td>\n",
       "      <td>5</td>\n",
       "      <td>1</td>\n",
       "      <td>57</td>\n",
       "      <td>18</td>\n",
       "      <td>0</td>\n",
       "    </tr>\n",
       "  </tbody>\n",
       "</table>\n",
       "</div>"
      ],
      "text/plain": [
       "   title  location  department  ...  industry  function  fraudulent\n",
       "0    181       134         659  ...        22        31           0\n",
       "1    587       162         851  ...        50        16           0\n",
       "2   2453       391         257  ...        88        20           0\n",
       "3   1255      1938         851  ...        39         7           0\n",
       "4    139       643         851  ...        57        18           0\n",
       "\n",
       "[5 rows x 13 columns]"
      ]
     },
     "execution_count": 13,
     "metadata": {
      "tags": []
     },
     "output_type": "execute_result"
    }
   ],
   "source": [
    "df.reset_index(drop=True,inplace=True)\n",
    "df.head()"
   ]
  },
  {
   "cell_type": "code",
   "execution_count": 14,
   "metadata": {
    "id": "lctr241oGxGS"
   },
   "outputs": [],
   "source": [
    "X=df.drop('fraudulent',axis=1)\n",
    "y=df['fraudulent']"
   ]
  },
  {
   "cell_type": "markdown",
   "metadata": {
    "id": "oIXgVbreJ1gL"
   },
   "source": [
    "### Feature Standardization\n"
   ]
  },
  {
   "cell_type": "code",
   "execution_count": 22,
   "metadata": {
    "id": "INYFTZ9yIbN6"
   },
   "outputs": [],
   "source": [
    "from sklearn.preprocessing import StandardScaler\n",
    "from sklearn.model_selection import train_test_split\n",
    "X_train, X_test, y_train, y_test = train_test_split(X, y, test_size = 0.2, random_state = 0, stratify = y)\n",
    "\n"
   ]
  },
  {
   "cell_type": "code",
   "execution_count": 23,
   "metadata": {
    "id": "rBCCS94tJpY7"
   },
   "outputs": [],
   "source": [
    "scaler = StandardScaler()\n",
    "X_train = scaler.fit_transform(X_train)\n",
    "X_test = scaler.transform(X_test)"
   ]
  },
  {
   "cell_type": "code",
   "execution_count": 24,
   "metadata": {
    "colab": {
     "base_uri": "https://localhost:8080/"
    },
    "id": "6LwENRdXJy0r",
    "outputId": "521e29a3-f200-40f6-abe4-4c8addd3506f"
   },
   "outputs": [
    {
     "data": {
      "text/plain": [
       "array([[-1.01051531, -0.41998145,  0.63636503, ...,  2.00445964,\n",
       "         0.52110984,  1.55531869],\n",
       "       [ 1.24073965, -0.91799811,  0.63636503, ..., -0.7280804 ,\n",
       "         1.59364017, -0.05333612],\n",
       "       [-0.50835991, -1.62874375,  0.63636503, ..., -1.06964791,\n",
       "        -0.19391037,  1.46594898],\n",
       "       ...,\n",
       "       [-1.40570935,  0.12420894,  0.63636503, ..., -0.7280804 ,\n",
       "        -0.52162798,  0.12540331],\n",
       "       [-0.16777246,  1.7485348 ,  0.30357236, ..., -0.7280804 ,\n",
       "        -1.05789314, -0.05333612],\n",
       "       [-1.43047935,  1.7485348 ,  0.30357236, ..., -0.7280804 ,\n",
       "         0.01463719, -0.05333612]])"
      ]
     },
     "execution_count": 24,
     "metadata": {
      "tags": []
     },
     "output_type": "execute_result"
    }
   ],
   "source": [
    "X_train"
   ]
  },
  {
   "cell_type": "markdown",
   "metadata": {
    "id": "CdumDAdSJ__a"
   },
   "source": [
    "### Build ANN"
   ]
  },
  {
   "cell_type": "code",
   "execution_count": 27,
   "metadata": {
    "id": "-gTXVsLAKKzC"
   },
   "outputs": [],
   "source": [
    "import tensorflow as tf\n",
    "from tensorflow import keras\n",
    "from tensorflow.keras import Sequential\n",
    "from tensorflow.keras.layers import Flatten, Dense"
   ]
  },
  {
   "cell_type": "code",
   "execution_count": 28,
   "metadata": {
    "id": "gVlko2CqJ-Z6"
   },
   "outputs": [],
   "source": [
    "model = Sequential()\n",
    "model.add(Dense(X.shape[1], activation='relu', input_dim = X.shape[1]))\n",
    "model.add(Dense(128, activation='relu'))\n",
    "model.add(Dense(1, activation = 'sigmoid'))"
   ]
  },
  {
   "cell_type": "code",
   "execution_count": 26,
   "metadata": {
    "colab": {
     "base_uri": "https://localhost:8080/"
    },
    "id": "XoomdiNBJ76i",
    "outputId": "72a11ca9-6a93-42c6-ab17-4e491a8b30c2"
   },
   "outputs": [
    {
     "data": {
      "text/plain": [
       "12"
      ]
     },
     "execution_count": 26,
     "metadata": {
      "tags": []
     },
     "output_type": "execute_result"
    }
   ],
   "source": [
    "X.shape[1]"
   ]
  },
  {
   "cell_type": "code",
   "execution_count": 29,
   "metadata": {
    "id": "8FEfLdmUKFAz"
   },
   "outputs": [],
   "source": [
    "model.compile(optimizer='adam', loss = 'binary_crossentropy', metrics=['accuracy'])"
   ]
  },
  {
   "cell_type": "code",
   "execution_count": 30,
   "metadata": {
    "colab": {
     "base_uri": "https://localhost:8080/"
    },
    "id": "Ag0HR2RcKSKS",
    "outputId": "66c441b8-0a1d-4ce0-eb19-46f3caa873dd"
   },
   "outputs": [
    {
     "name": "stdout",
     "output_type": "stream",
     "text": [
      "Epoch 1/10\n",
      "782/782 [==============================] - 1s 1ms/step - loss: 0.2192 - accuracy: 0.9553\n",
      "Epoch 2/10\n",
      "782/782 [==============================] - 1s 1ms/step - loss: 0.1423 - accuracy: 0.9602\n",
      "Epoch 3/10\n",
      "782/782 [==============================] - 1s 1ms/step - loss: 0.1355 - accuracy: 0.9611\n",
      "Epoch 4/10\n",
      "782/782 [==============================] - 1s 1ms/step - loss: 0.1364 - accuracy: 0.9583\n",
      "Epoch 5/10\n",
      "782/782 [==============================] - 1s 1ms/step - loss: 0.1239 - accuracy: 0.9613\n",
      "Epoch 6/10\n",
      "782/782 [==============================] - 1s 1ms/step - loss: 0.1199 - accuracy: 0.9623\n",
      "Epoch 7/10\n",
      "782/782 [==============================] - 1s 1ms/step - loss: 0.1123 - accuracy: 0.9670\n",
      "Epoch 8/10\n",
      "782/782 [==============================] - 1s 1ms/step - loss: 0.1042 - accuracy: 0.9686\n",
      "Epoch 9/10\n",
      "782/782 [==============================] - 1s 1ms/step - loss: 0.0977 - accuracy: 0.9706\n",
      "Epoch 10/10\n",
      "782/782 [==============================] - 1s 1ms/step - loss: 0.1097 - accuracy: 0.9654\n"
     ]
    },
    {
     "data": {
      "text/plain": [
       "<tensorflow.python.keras.callbacks.History at 0x7febf8a16210>"
      ]
     },
     "execution_count": 30,
     "metadata": {
      "tags": []
     },
     "output_type": "execute_result"
    }
   ],
   "source": [
    "model.fit(X_train, y_train.to_numpy(), batch_size = 10, epochs = 10, verbose = 1)"
   ]
  },
  {
   "cell_type": "code",
   "execution_count": 33,
   "metadata": {
    "colab": {
     "base_uri": "https://localhost:8080/"
    },
    "id": "rpD_DnrnKTty",
    "outputId": "465a0945-64b5-4b82-e490-0aa6918603c0"
   },
   "outputs": [
    {
     "name": "stderr",
     "output_type": "stream",
     "text": [
      "/usr/local/lib/python3.7/dist-packages/tensorflow/python/keras/engine/sequential.py:450: UserWarning: `model.predict_classes()` is deprecated and will be removed after 2021-01-01. Please use instead:* `np.argmax(model.predict(x), axis=-1)`,   if your model does multi-class classification   (e.g. if it uses a `softmax` last-layer activation).* `(model.predict(x) > 0.5).astype(\"int32\")`,   if your model does binary classification   (e.g. if it uses a `sigmoid` last-layer activation).\n",
      "  warnings.warn('`model.predict_classes()` is deprecated and '\n"
     ]
    },
    {
     "data": {
      "text/plain": [
       "array([[0],\n",
       "       [0],\n",
       "       [0],\n",
       "       ...,\n",
       "       [0],\n",
       "       [0],\n",
       "       [0]], dtype=int32)"
      ]
     },
     "execution_count": 33,
     "metadata": {
      "tags": []
     },
     "output_type": "execute_result"
    }
   ],
   "source": [
    "y_pred = model.predict_classes(X_test)\n",
    "y_pred"
   ]
  },
  {
   "cell_type": "code",
   "execution_count": 49,
   "metadata": {
    "colab": {
     "base_uri": "https://localhost:8080/"
    },
    "id": "Qw07NqGfKYIq",
    "outputId": "7a1cdc6a-d1a3-49c5-936a-83267e0fdb69"
   },
   "outputs": [
    {
     "data": {
      "text/plain": [
       "2713    0\n",
       "2221    0\n",
       "8879    0\n",
       "8625    0\n",
       "2634    1\n",
       "       ..\n",
       "7003    0\n",
       "8445    0\n",
       "3693    0\n",
       "2854    0\n",
       "5766    0\n",
       "Name: fraudulent, Length: 1955, dtype: int64"
      ]
     },
     "execution_count": 49,
     "metadata": {
      "tags": []
     },
     "output_type": "execute_result"
    }
   ],
   "source": [
    "y_test"
   ]
  },
  {
   "cell_type": "code",
   "execution_count": 35,
   "metadata": {
    "colab": {
     "base_uri": "https://localhost:8080/"
    },
    "id": "gx4NwJX7KZ-i",
    "outputId": "5cdaadc7-6f06-4944-943d-3cd6c39a730d"
   },
   "outputs": [
    {
     "name": "stdout",
     "output_type": "stream",
     "text": [
      "62/62 [==============================] - 0s 1ms/step - loss: 0.1220 - accuracy: 0.9611\n"
     ]
    },
    {
     "data": {
      "text/plain": [
       "[0.12195726484060287, 0.9611253142356873]"
      ]
     },
     "execution_count": 35,
     "metadata": {
      "tags": []
     },
     "output_type": "execute_result"
    }
   ],
   "source": [
    "model.evaluate(X_test, y_test.to_numpy())"
   ]
  },
  {
   "cell_type": "code",
   "execution_count": 37,
   "metadata": {
    "colab": {
     "base_uri": "https://localhost:8080/"
    },
    "id": "Ci-yy0dBK0AS",
    "outputId": "7dd58c57-acbf-47c6-f1e7-7b81891ce1df"
   },
   "outputs": [
    {
     "data": {
      "text/plain": [
       "array([[1866,    6],\n",
       "       [  70,   13]])"
      ]
     },
     "execution_count": 37,
     "metadata": {
      "tags": []
     },
     "output_type": "execute_result"
    }
   ],
   "source": [
    "confusion_matrix(y_test, y_pred)"
   ]
  },
  {
   "cell_type": "code",
   "execution_count": 38,
   "metadata": {
    "colab": {
     "base_uri": "https://localhost:8080/"
    },
    "id": "0oTg75LZK0Cq",
    "outputId": "96844cf6-2df3-47b0-8f7a-8b191e20a93b"
   },
   "outputs": [
    {
     "data": {
      "text/plain": [
       "0.9611253196930947"
      ]
     },
     "execution_count": 38,
     "metadata": {
      "tags": []
     },
     "output_type": "execute_result"
    }
   ],
   "source": [
    "accuracy_score(y_test, y_pred)"
   ]
  },
  {
   "cell_type": "code",
   "execution_count": 42,
   "metadata": {
    "colab": {
     "base_uri": "https://localhost:8080/"
    },
    "id": "Le_nLwkAK3fa",
    "outputId": "6cbd9800-f90a-4741-8170-8815615b7e1d"
   },
   "outputs": [
    {
     "data": {
      "text/plain": [
       "0.5767106889094841"
      ]
     },
     "execution_count": 42,
     "metadata": {
      "tags": []
     },
     "output_type": "execute_result"
    }
   ],
   "source": [
    "lb = preprocessing.LabelBinarizer()\n",
    "lb.fit(y_train)\n",
    "roc_auc_score(lb.transform(y_test), lb.transform(y_pred))"
   ]
  },
  {
   "cell_type": "markdown",
   "metadata": {
    "id": "X8xvjyZbMfvk"
   },
   "source": [
    "### Model with more layers"
   ]
  },
  {
   "cell_type": "code",
   "execution_count": 68,
   "metadata": {
    "id": "PnZgpEDbLJqa"
   },
   "outputs": [],
   "source": [
    "model2 = Sequential()\n",
    "model2.add(Dense(X.shape[1], activation='relu', input_dim = X.shape[1]))\n",
    "model2.add(Dense(128, activation='relu'))\n",
    "model2.add(Dense(1, activation = 'sigmoid'))"
   ]
  },
  {
   "cell_type": "code",
   "execution_count": 69,
   "metadata": {
    "id": "iIUYHxJNNHB6"
   },
   "outputs": [],
   "source": [
    "model2.compile(optimizer='adam', loss = 'binary_crossentropy', metrics=['accuracy'])"
   ]
  },
  {
   "cell_type": "code",
   "execution_count": 75,
   "metadata": {
    "colab": {
     "base_uri": "https://localhost:8080/"
    },
    "id": "h_x_lIc1NLJC",
    "outputId": "59d9b4aa-e19d-4d4e-cc23-19be891d89f9"
   },
   "outputs": [
    {
     "name": "stdout",
     "output_type": "stream",
     "text": [
      "Epoch 1/100\n",
      "782/782 [==============================] - 1s 1ms/step - loss: 0.0559 - accuracy: 0.9808\n",
      "Epoch 2/100\n",
      "782/782 [==============================] - 1s 1ms/step - loss: 0.0563 - accuracy: 0.9803\n",
      "Epoch 3/100\n",
      "782/782 [==============================] - 1s 1ms/step - loss: 0.0552 - accuracy: 0.9804\n",
      "Epoch 4/100\n",
      "782/782 [==============================] - 1s 1ms/step - loss: 0.0539 - accuracy: 0.9802\n",
      "Epoch 5/100\n",
      "782/782 [==============================] - 1s 1ms/step - loss: 0.0530 - accuracy: 0.9815\n",
      "Epoch 6/100\n",
      "782/782 [==============================] - 1s 1ms/step - loss: 0.0529 - accuracy: 0.9815\n",
      "Epoch 7/100\n",
      "782/782 [==============================] - 1s 1ms/step - loss: 0.0521 - accuracy: 0.9802\n",
      "Epoch 8/100\n",
      "782/782 [==============================] - 1s 1ms/step - loss: 0.0513 - accuracy: 0.9818\n",
      "Epoch 9/100\n",
      "782/782 [==============================] - 1s 1ms/step - loss: 0.0517 - accuracy: 0.9817\n",
      "Epoch 10/100\n",
      "782/782 [==============================] - 1s 1ms/step - loss: 0.0508 - accuracy: 0.9827\n",
      "Epoch 11/100\n",
      "782/782 [==============================] - 1s 1ms/step - loss: 0.0488 - accuracy: 0.9818\n",
      "Epoch 12/100\n",
      "782/782 [==============================] - 1s 1ms/step - loss: 0.0495 - accuracy: 0.9821\n",
      "Epoch 13/100\n",
      "782/782 [==============================] - 1s 1ms/step - loss: 0.0485 - accuracy: 0.9826\n",
      "Epoch 14/100\n",
      "782/782 [==============================] - 1s 1ms/step - loss: 0.0483 - accuracy: 0.9836\n",
      "Epoch 15/100\n",
      "782/782 [==============================] - 1s 1ms/step - loss: 0.0481 - accuracy: 0.9826\n",
      "Epoch 16/100\n",
      "782/782 [==============================] - 1s 1ms/step - loss: 0.0475 - accuracy: 0.9824\n",
      "Epoch 17/100\n",
      "782/782 [==============================] - 1s 1ms/step - loss: 0.0474 - accuracy: 0.9831\n",
      "Epoch 18/100\n",
      "782/782 [==============================] - 1s 1ms/step - loss: 0.0468 - accuracy: 0.9830\n",
      "Epoch 19/100\n",
      "782/782 [==============================] - 1s 1ms/step - loss: 0.0462 - accuracy: 0.9827\n",
      "Epoch 20/100\n",
      "782/782 [==============================] - 1s 1ms/step - loss: 0.0457 - accuracy: 0.9839\n",
      "Epoch 21/100\n",
      "782/782 [==============================] - 1s 1ms/step - loss: 0.0450 - accuracy: 0.9841\n",
      "Epoch 22/100\n",
      "782/782 [==============================] - 1s 1ms/step - loss: 0.0449 - accuracy: 0.9849\n",
      "Epoch 23/100\n",
      "782/782 [==============================] - 1s 1ms/step - loss: 0.0441 - accuracy: 0.9834\n",
      "Epoch 24/100\n",
      "782/782 [==============================] - 1s 1ms/step - loss: 0.0431 - accuracy: 0.9849\n",
      "Epoch 25/100\n",
      "782/782 [==============================] - 1s 1ms/step - loss: 0.0431 - accuracy: 0.9857\n",
      "Epoch 26/100\n",
      "782/782 [==============================] - 1s 1ms/step - loss: 0.0424 - accuracy: 0.9843\n",
      "Epoch 27/100\n",
      "782/782 [==============================] - 1s 1ms/step - loss: 0.0414 - accuracy: 0.9852\n",
      "Epoch 28/100\n",
      "782/782 [==============================] - 1s 1ms/step - loss: 0.0415 - accuracy: 0.9852\n",
      "Epoch 29/100\n",
      "782/782 [==============================] - 1s 1ms/step - loss: 0.0416 - accuracy: 0.9859\n",
      "Epoch 30/100\n",
      "782/782 [==============================] - 1s 1ms/step - loss: 0.0414 - accuracy: 0.9854\n",
      "Epoch 31/100\n",
      "782/782 [==============================] - 1s 1ms/step - loss: 0.0397 - accuracy: 0.9864\n",
      "Epoch 32/100\n",
      "782/782 [==============================] - 1s 1ms/step - loss: 0.0402 - accuracy: 0.9847\n",
      "Epoch 33/100\n",
      "782/782 [==============================] - 1s 1ms/step - loss: 0.0388 - accuracy: 0.9867\n",
      "Epoch 34/100\n",
      "782/782 [==============================] - 1s 1ms/step - loss: 0.0398 - accuracy: 0.9863\n",
      "Epoch 35/100\n",
      "782/782 [==============================] - 1s 1ms/step - loss: 0.0383 - accuracy: 0.9859\n",
      "Epoch 36/100\n",
      "782/782 [==============================] - 1s 1ms/step - loss: 0.0372 - accuracy: 0.9867\n",
      "Epoch 37/100\n",
      "782/782 [==============================] - 1s 1ms/step - loss: 0.0376 - accuracy: 0.9857\n",
      "Epoch 38/100\n",
      "782/782 [==============================] - 1s 1ms/step - loss: 0.0358 - accuracy: 0.9868\n",
      "Epoch 39/100\n",
      "782/782 [==============================] - 1s 1ms/step - loss: 0.0358 - accuracy: 0.9879\n",
      "Epoch 40/100\n",
      "782/782 [==============================] - 1s 1ms/step - loss: 0.0370 - accuracy: 0.9859\n",
      "Epoch 41/100\n",
      "782/782 [==============================] - 1s 1ms/step - loss: 0.0370 - accuracy: 0.9862\n",
      "Epoch 42/100\n",
      "782/782 [==============================] - 1s 1ms/step - loss: 0.0363 - accuracy: 0.9866\n",
      "Epoch 43/100\n",
      "782/782 [==============================] - 1s 1ms/step - loss: 0.0350 - accuracy: 0.9879\n",
      "Epoch 44/100\n",
      "782/782 [==============================] - 1s 1ms/step - loss: 0.0349 - accuracy: 0.9879\n",
      "Epoch 45/100\n",
      "782/782 [==============================] - 1s 1ms/step - loss: 0.0343 - accuracy: 0.9861\n",
      "Epoch 46/100\n",
      "782/782 [==============================] - 1s 1ms/step - loss: 0.0357 - accuracy: 0.9858\n",
      "Epoch 47/100\n",
      "782/782 [==============================] - 1s 1ms/step - loss: 0.0340 - accuracy: 0.9877\n",
      "Epoch 48/100\n",
      "782/782 [==============================] - 1s 1ms/step - loss: 0.0336 - accuracy: 0.9881\n",
      "Epoch 49/100\n",
      "782/782 [==============================] - 1s 1ms/step - loss: 0.0330 - accuracy: 0.9884\n",
      "Epoch 50/100\n",
      "782/782 [==============================] - 1s 1ms/step - loss: 0.0339 - accuracy: 0.9876\n",
      "Epoch 51/100\n",
      "782/782 [==============================] - 1s 1ms/step - loss: 0.0327 - accuracy: 0.9875\n",
      "Epoch 52/100\n",
      "782/782 [==============================] - 1s 1ms/step - loss: 0.0330 - accuracy: 0.9884\n",
      "Epoch 53/100\n",
      "782/782 [==============================] - 1s 1ms/step - loss: 0.0313 - accuracy: 0.9890\n",
      "Epoch 54/100\n",
      "782/782 [==============================] - 1s 1ms/step - loss: 0.0313 - accuracy: 0.9890\n",
      "Epoch 55/100\n",
      "782/782 [==============================] - 1s 1ms/step - loss: 0.0306 - accuracy: 0.9885\n",
      "Epoch 56/100\n",
      "782/782 [==============================] - 1s 1ms/step - loss: 0.0321 - accuracy: 0.9881\n",
      "Epoch 57/100\n",
      "782/782 [==============================] - 1s 1ms/step - loss: 0.0309 - accuracy: 0.9896\n",
      "Epoch 58/100\n",
      "782/782 [==============================] - 1s 1ms/step - loss: 0.0297 - accuracy: 0.9899\n",
      "Epoch 59/100\n",
      "782/782 [==============================] - 1s 1ms/step - loss: 0.0302 - accuracy: 0.9899\n",
      "Epoch 60/100\n",
      "782/782 [==============================] - 1s 1ms/step - loss: 0.0295 - accuracy: 0.9899\n",
      "Epoch 61/100\n",
      "782/782 [==============================] - 1s 1ms/step - loss: 0.0293 - accuracy: 0.9887\n",
      "Epoch 62/100\n",
      "782/782 [==============================] - 1s 1ms/step - loss: 0.0308 - accuracy: 0.9893\n",
      "Epoch 63/100\n",
      "782/782 [==============================] - 1s 1ms/step - loss: 0.0289 - accuracy: 0.9904\n",
      "Epoch 64/100\n",
      "782/782 [==============================] - 1s 1ms/step - loss: 0.0284 - accuracy: 0.9896\n",
      "Epoch 65/100\n",
      "782/782 [==============================] - 1s 1ms/step - loss: 0.0289 - accuracy: 0.9899\n",
      "Epoch 66/100\n",
      "782/782 [==============================] - 1s 1ms/step - loss: 0.0288 - accuracy: 0.9899\n",
      "Epoch 67/100\n",
      "782/782 [==============================] - 1s 1ms/step - loss: 0.0277 - accuracy: 0.9902\n",
      "Epoch 68/100\n",
      "782/782 [==============================] - 1s 1ms/step - loss: 0.0273 - accuracy: 0.9902\n",
      "Epoch 69/100\n",
      "782/782 [==============================] - 1s 1ms/step - loss: 0.0271 - accuracy: 0.9896\n",
      "Epoch 70/100\n",
      "782/782 [==============================] - 1s 1ms/step - loss: 0.0267 - accuracy: 0.9910\n",
      "Epoch 71/100\n",
      "782/782 [==============================] - 1s 1ms/step - loss: 0.0272 - accuracy: 0.9891\n",
      "Epoch 72/100\n",
      "782/782 [==============================] - 1s 1ms/step - loss: 0.0269 - accuracy: 0.9916\n",
      "Epoch 73/100\n",
      "782/782 [==============================] - 1s 1ms/step - loss: 0.0254 - accuracy: 0.9912\n",
      "Epoch 74/100\n",
      "782/782 [==============================] - 1s 1ms/step - loss: 0.0266 - accuracy: 0.9908\n",
      "Epoch 75/100\n",
      "782/782 [==============================] - 1s 1ms/step - loss: 0.0264 - accuracy: 0.9903\n",
      "Epoch 76/100\n",
      "782/782 [==============================] - 1s 1ms/step - loss: 0.0257 - accuracy: 0.9913\n",
      "Epoch 77/100\n",
      "782/782 [==============================] - 1s 1ms/step - loss: 0.0255 - accuracy: 0.9912\n",
      "Epoch 78/100\n",
      "782/782 [==============================] - 1s 1ms/step - loss: 0.0251 - accuracy: 0.9907\n",
      "Epoch 79/100\n",
      "782/782 [==============================] - 1s 1ms/step - loss: 0.0255 - accuracy: 0.9905\n",
      "Epoch 80/100\n",
      "782/782 [==============================] - 1s 1ms/step - loss: 0.0246 - accuracy: 0.9919\n",
      "Epoch 81/100\n",
      "782/782 [==============================] - 1s 1ms/step - loss: 0.0240 - accuracy: 0.9918\n",
      "Epoch 82/100\n",
      "782/782 [==============================] - 1s 1ms/step - loss: 0.0247 - accuracy: 0.9900\n",
      "Epoch 83/100\n",
      "782/782 [==============================] - 1s 1ms/step - loss: 0.0227 - accuracy: 0.9927\n",
      "Epoch 84/100\n",
      "782/782 [==============================] - 1s 1ms/step - loss: 0.0229 - accuracy: 0.9917\n",
      "Epoch 85/100\n",
      "782/782 [==============================] - 1s 1ms/step - loss: 0.0218 - accuracy: 0.9922\n",
      "Epoch 86/100\n",
      "782/782 [==============================] - 1s 1ms/step - loss: 0.0243 - accuracy: 0.9905\n",
      "Epoch 87/100\n",
      "782/782 [==============================] - 1s 1ms/step - loss: 0.0229 - accuracy: 0.9922\n",
      "Epoch 88/100\n",
      "782/782 [==============================] - 1s 1ms/step - loss: 0.0228 - accuracy: 0.9913\n",
      "Epoch 89/100\n",
      "782/782 [==============================] - 1s 1ms/step - loss: 0.0214 - accuracy: 0.9927\n",
      "Epoch 90/100\n",
      "782/782 [==============================] - 1s 1ms/step - loss: 0.0238 - accuracy: 0.9909\n",
      "Epoch 91/100\n",
      "782/782 [==============================] - 1s 1ms/step - loss: 0.0227 - accuracy: 0.9914\n",
      "Epoch 92/100\n",
      "782/782 [==============================] - 1s 1ms/step - loss: 0.0211 - accuracy: 0.9930\n",
      "Epoch 93/100\n",
      "782/782 [==============================] - 1s 1ms/step - loss: 0.0204 - accuracy: 0.9935\n",
      "Epoch 94/100\n",
      "782/782 [==============================] - 1s 1ms/step - loss: 0.0209 - accuracy: 0.9931\n",
      "Epoch 95/100\n",
      "782/782 [==============================] - 1s 1ms/step - loss: 0.0207 - accuracy: 0.9935\n",
      "Epoch 96/100\n",
      "782/782 [==============================] - 1s 1ms/step - loss: 0.0206 - accuracy: 0.9918\n",
      "Epoch 97/100\n",
      "782/782 [==============================] - 1s 1ms/step - loss: 0.0205 - accuracy: 0.9934\n",
      "Epoch 98/100\n",
      "782/782 [==============================] - 1s 1ms/step - loss: 0.0205 - accuracy: 0.9927\n",
      "Epoch 99/100\n",
      "782/782 [==============================] - 1s 1ms/step - loss: 0.0206 - accuracy: 0.9931\n",
      "Epoch 100/100\n",
      "782/782 [==============================] - 1s 1ms/step - loss: 0.0221 - accuracy: 0.9912\n"
     ]
    },
    {
     "data": {
      "text/plain": [
       "<tensorflow.python.keras.callbacks.History at 0x7febe7190f50>"
      ]
     },
     "execution_count": 75,
     "metadata": {
      "tags": []
     },
     "output_type": "execute_result"
    }
   ],
   "source": [
    "model2.fit(X_train, y_train.to_numpy(), batch_size = 10, epochs = 100, verbose = 1)"
   ]
  },
  {
   "cell_type": "code",
   "execution_count": 76,
   "metadata": {
    "colab": {
     "base_uri": "https://localhost:8080/"
    },
    "id": "RqULVVdbM5pd",
    "outputId": "7a418fb4-baee-4beb-92c8-9bce126b7775"
   },
   "outputs": [
    {
     "name": "stderr",
     "output_type": "stream",
     "text": [
      "/usr/local/lib/python3.7/dist-packages/tensorflow/python/keras/engine/sequential.py:450: UserWarning: `model.predict_classes()` is deprecated and will be removed after 2021-01-01. Please use instead:* `np.argmax(model.predict(x), axis=-1)`,   if your model does multi-class classification   (e.g. if it uses a `softmax` last-layer activation).* `(model.predict(x) > 0.5).astype(\"int32\")`,   if your model does binary classification   (e.g. if it uses a `sigmoid` last-layer activation).\n",
      "  warnings.warn('`model.predict_classes()` is deprecated and '\n"
     ]
    }
   ],
   "source": [
    "y_pred = model2.predict_classes(X_test)"
   ]
  },
  {
   "cell_type": "code",
   "execution_count": 77,
   "metadata": {
    "colab": {
     "base_uri": "https://localhost:8080/"
    },
    "id": "Uq2WnXXeM82J",
    "outputId": "eddcfb1d-8dc5-40e2-d4bc-1ae778f1734e"
   },
   "outputs": [
    {
     "name": "stdout",
     "output_type": "stream",
     "text": [
      "62/62 [==============================] - 0s 922us/step - loss: 0.1830 - accuracy: 0.9678\n"
     ]
    },
    {
     "data": {
      "text/plain": [
       "[0.18297643959522247, 0.9677749276161194]"
      ]
     },
     "execution_count": 77,
     "metadata": {
      "tags": []
     },
     "output_type": "execute_result"
    }
   ],
   "source": [
    "model2.evaluate(X_test, y_test.to_numpy())"
   ]
  },
  {
   "cell_type": "code",
   "execution_count": 78,
   "metadata": {
    "colab": {
     "base_uri": "https://localhost:8080/"
    },
    "id": "62_qGPP8M-wi",
    "outputId": "a4f91e63-73ac-40f6-ea1c-51c317224797"
   },
   "outputs": [
    {
     "data": {
      "text/plain": [
       "0.9677749360613811"
      ]
     },
     "execution_count": 78,
     "metadata": {
      "tags": []
     },
     "output_type": "execute_result"
    }
   ],
   "source": [
    "accuracy_score(y_test, y_pred)"
   ]
  },
  {
   "cell_type": "code",
   "execution_count": 79,
   "metadata": {
    "colab": {
     "base_uri": "https://localhost:8080/"
    },
    "id": "PGOyMmGyNdv6",
    "outputId": "fbe74132-a533-45c5-ca35-d7e68817d97d"
   },
   "outputs": [
    {
     "data": {
      "text/plain": [
       "0.7816779940273917"
      ]
     },
     "execution_count": 79,
     "metadata": {
      "tags": []
     },
     "output_type": "execute_result"
    }
   ],
   "source": [
    "lb = preprocessing.LabelBinarizer()\n",
    "lb.fit(y_train)\n",
    "roc_auc_score(lb.transform(y_test), lb.transform(y_pred))"
   ]
  },
  {
   "cell_type": "code",
   "execution_count": null,
   "metadata": {
    "id": "gyI_OdD0Ng-h"
   },
   "outputs": [],
   "source": []
  }
 ],
 "metadata": {
  "colab": {
   "name": "ANN.ipynb",
   "provenance": []
  },
  "kernelspec": {
   "display_name": "Python 3",
   "language": "python",
   "name": "python3"
  },
  "language_info": {
   "codemirror_mode": {
    "name": "ipython",
    "version": 3
   },
   "file_extension": ".py",
   "mimetype": "text/x-python",
   "name": "python",
   "nbconvert_exporter": "python",
   "pygments_lexer": "ipython3",
   "version": "3.7.8rc1"
  }
 },
 "nbformat": 4,
 "nbformat_minor": 1
}
