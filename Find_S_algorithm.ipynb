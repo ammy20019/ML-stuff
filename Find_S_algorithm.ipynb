{
  "nbformat": 4,
  "nbformat_minor": 0,
  "metadata": {
    "colab": {
      "name": "Find-S_algorithm.ipynb",
      "provenance": [],
      "collapsed_sections": []
    },
    "kernelspec": {
      "name": "python3",
      "display_name": "Python 3"
    }
  },
  "cells": [
    {
      "cell_type": "code",
      "metadata": {
        "id": "R8QfPj1rZIGL"
      },
      "source": [
        "import pandas as pd\r\n",
        "import numpy as np"
      ],
      "execution_count": 13,
      "outputs": []
    },
    {
      "cell_type": "code",
      "metadata": {
        "colab": {
          "base_uri": "https://localhost:8080/"
        },
        "id": "Ug9ELC2FaLmi",
        "outputId": "5048aeaf-0c55-4b70-faa6-f4a09caa7945"
      },
      "source": [
        "data = pd.read_csv(\"EnjoySport.csv\")\r\n",
        "print(data)\r\n",
        " \r\n",
        "#making an array of all the attributes\r\n",
        "d = np.array(data)[:,:-1]\r\n",
        "print(\"The attributes are: \")\r\n",
        "print(d)"
      ],
      "execution_count": 17,
      "outputs": [
        {
          "output_type": "stream",
          "text": [
            "     Sky AirTemp Humidity   Wind  Water Forecast EnjoySport\n",
            "0  Sunny    Warm   Normal  Strong  Warm     Same        Yes\n",
            "1  Sunny    Warm     High  Strong  Warm     Same        Yes\n",
            "2  Rainy    Cold     High  Strong  Warm   Change         No\n",
            "3  Sunny    Warm     High  Strong  Cool   Change        Yes\n",
            "The attributes are: \n",
            "[['Sunny' 'Warm' 'Normal' 'Strong' 'Warm' 'Same']\n",
            " ['Sunny' 'Warm' 'High' 'Strong' 'Warm' 'Same']\n",
            " ['Rainy' 'Cold' 'High' 'Strong' 'Warm' 'Change']\n",
            " ['Sunny' 'Warm' 'High' 'Strong' 'Cool' 'Change']]\n"
          ],
          "name": "stdout"
        }
      ]
    },
    {
      "cell_type": "code",
      "metadata": {
        "colab": {
          "base_uri": "https://localhost:8080/"
        },
        "id": "0ekCWBHcajuh",
        "outputId": "97a338e8-8b8f-4476-f2bc-bbf2e21f8543"
      },
      "source": [
        "target = np.array(data)[:,-1]\r\n",
        "print(\" target: \")\r\n",
        "print(target)\r\n",
        " "
      ],
      "execution_count": 19,
      "outputs": [
        {
          "output_type": "stream",
          "text": [
            " target: \n",
            "['Yes' 'Yes' 'No' 'Yes']\n"
          ],
          "name": "stdout"
        }
      ]
    },
    {
      "cell_type": "code",
      "metadata": {
        "colab": {
          "base_uri": "https://localhost:8080/"
        },
        "id": "AQCorwPNaLz_",
        "outputId": "1930c960-3f6c-4454-d88b-0c17fabef616"
      },
      "source": [
        "def train(c,t):\r\n",
        "    for i, val in enumerate(t):\r\n",
        "        if val == \"Yes\":\r\n",
        "            s_h = c[i].copy()\r\n",
        "            break\r\n",
        "             \r\n",
        "    for i, val in enumerate(c):\r\n",
        "        if t[i] == \"Yes\":\r\n",
        "            for x in range(len(s_h)):\r\n",
        "                if val[x] != s_h[x]:\r\n",
        "                    s_h[x] = '?'\r\n",
        "                else:\r\n",
        "                    pass\r\n",
        "                 \r\n",
        "    return s_h\r\n",
        " \r\n",
        "\r\n",
        "print(\"final hypothesis :\",train(d,target))"
      ],
      "execution_count": 21,
      "outputs": [
        {
          "output_type": "stream",
          "text": [
            "final hypothesis : ['Sunny' 'Warm' '?' 'Strong' '?' '?']\n"
          ],
          "name": "stdout"
        }
      ]
    },
    {
      "cell_type": "code",
      "metadata": {
        "id": "_N1tpLjMdubh"
      },
      "source": [
        ""
      ],
      "execution_count": null,
      "outputs": []
    }
  ]
}