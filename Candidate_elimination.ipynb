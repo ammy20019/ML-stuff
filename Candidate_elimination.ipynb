{
  "nbformat": 4,
  "nbformat_minor": 0,
  "metadata": {
    "colab": {
      "name": "Untitled0.ipynb",
      "provenance": [],
      "collapsed_sections": []
    },
    "kernelspec": {
      "name": "python3",
      "display_name": "Python 3"
    }
  },
  "cells": [
    {
      "cell_type": "code",
      "metadata": {
        "id": "bdcowhLrhKzC"
      },
      "source": [
        "import pandas as pd\r\n",
        "import numpy as np"
      ],
      "execution_count": 1,
      "outputs": []
    },
    {
      "cell_type": "code",
      "metadata": {
        "colab": {
          "base_uri": "https://localhost:8080/"
        },
        "id": "i8ibQFKWilta",
        "outputId": "af2b82df-6777-41ee-ddb3-541f0ec06d00"
      },
      "source": [
        "data = pd.read_csv(\"EnjoySport.csv\")\r\n",
        "print(data)\r\n",
        " "
      ],
      "execution_count": 3,
      "outputs": [
        {
          "output_type": "stream",
          "text": [
            "     Sky AirTemp Humidity   Wind  Water Forecast EnjoySport\n",
            "0  Sunny    Warm   Normal  Strong  Warm     Same        Yes\n",
            "1  Sunny    Warm     High  Strong  Warm     Same        Yes\n",
            "2  Rainy    Cold     High  Strong  Warm   Change         No\n",
            "3  Sunny    Warm     High  Strong  Cool   Change        Yes\n"
          ],
          "name": "stdout"
        }
      ]
    },
    {
      "cell_type": "code",
      "metadata": {
        "colab": {
          "base_uri": "https://localhost:8080/"
        },
        "id": "hlokmZdjipnc",
        "outputId": "702df9cd-aef0-45a7-c555-8df28e0cee8f"
      },
      "source": [
        "concepts = np.array(data.iloc[:,0:-1])\r\n",
        "target = np.array(data.iloc[:,-1])\r\n",
        "print(target)\r\n",
        "print(concepts)"
      ],
      "execution_count": 4,
      "outputs": [
        {
          "output_type": "stream",
          "text": [
            "['Yes' 'Yes' 'No' 'Yes']\n",
            "[['Sunny' 'Warm' 'Normal' 'Strong' 'Warm' 'Same']\n",
            " ['Sunny' 'Warm' 'High' 'Strong' 'Warm' 'Same']\n",
            " ['Rainy' 'Cold' 'High' 'Strong' 'Warm' 'Change']\n",
            " ['Sunny' 'Warm' 'High' 'Strong' 'Cool' 'Change']]\n"
          ],
          "name": "stdout"
        }
      ]
    },
    {
      "cell_type": "code",
      "metadata": {
        "colab": {
          "base_uri": "https://localhost:8080/"
        },
        "id": "elHrPzE2i2lM",
        "outputId": "3ff8bec7-3cc5-4987-e983-128d159116ad"
      },
      "source": [
        "def learn(concepts, target):\r\n",
        "\r\n",
        "    specific_h = concepts[0].copy()\r\n",
        "\r\n",
        "    print(\"Initialization of specific_h and general_h\")\r\n",
        "\r\n",
        "    print(\"specific_h: \",specific_h)\r\n",
        "\r\n",
        "    general_h = [[\"?\" for i in range(len(specific_h))] for i in range(len(specific_h))]\r\n",
        "\r\n",
        "    print(\"general_h: \",general_h)\r\n",
        "\r\n",
        "    print(\"concepts: \",concepts)\r\n",
        "\r\n",
        "    for i, h in enumerate(concepts):\r\n",
        "\r\n",
        "        if target[i] == \"yes\":\r\n",
        "\r\n",
        "            for x in range(len(specific_h)):\r\n",
        "\r\n",
        "                #print(\"h[x]\",h[x])\r\n",
        "\r\n",
        "                if h[x] != specific_h[x]:\r\n",
        "\r\n",
        "                    specific_h[x] = '?'\r\n",
        "\r\n",
        "                    general_h[x][x] = '?'\r\n",
        "\r\n",
        "        if target[i] == \"no\":\r\n",
        "\r\n",
        "            for x in range(len(specific_h)):\r\n",
        "\r\n",
        "                if h[x] != specific_h[x]:\r\n",
        "\r\n",
        "                    general_h[x][x] = specific_h[x]\r\n",
        "\r\n",
        "                else:\r\n",
        "\r\n",
        "                    general_h[x][x] = '?'\r\n",
        "\r\n",
        "    print(\"\\nSteps of Candidate Elimination Algorithm: \",i+1)\r\n",
        "\r\n",
        "    print(\"Specific_h: \",i+1)\r\n",
        "\r\n",
        "    print(specific_h,\"\\n\")\r\n",
        "\r\n",
        "    print(\"general_h :\", i+1)\r\n",
        "\r\n",
        "    print(general_h)\r\n",
        "\r\n",
        "    indices = [i for i, val in enumerate(general_h) if val == ['?', '?', '?', '?', '?', '?']]\r\n",
        "\r\n",
        "    print(\"\\nIndices\",indices)\r\n",
        "\r\n",
        "    for i in indices:\r\n",
        "\r\n",
        "        general_h.remove(['?', '?', '?', '?', '?', '?'])\r\n",
        "\r\n",
        "    return specific_h, general_h\r\n",
        "\r\n",
        "s_final,g_final = learn(concepts, target)\r\n",
        "\r\n",
        "print(\"\\nFinal Specific_h:\", s_final, sep=\"\\n\")\r\n",
        "\r\n",
        "print(\"Final General_h:\", g_final, sep=\"\\n\")"
      ],
      "execution_count": 5,
      "outputs": [
        {
          "output_type": "stream",
          "text": [
            "Initialization of specific_h and general_h\n",
            "specific_h:  ['Sunny' 'Warm' 'Normal' 'Strong' 'Warm' 'Same']\n",
            "general_h:  [['?', '?', '?', '?', '?', '?'], ['?', '?', '?', '?', '?', '?'], ['?', '?', '?', '?', '?', '?'], ['?', '?', '?', '?', '?', '?'], ['?', '?', '?', '?', '?', '?'], ['?', '?', '?', '?', '?', '?']]\n",
            "concepts:  [['Sunny' 'Warm' 'Normal' 'Strong' 'Warm' 'Same']\n",
            " ['Sunny' 'Warm' 'High' 'Strong' 'Warm' 'Same']\n",
            " ['Rainy' 'Cold' 'High' 'Strong' 'Warm' 'Change']\n",
            " ['Sunny' 'Warm' 'High' 'Strong' 'Cool' 'Change']]\n",
            "\n",
            "Steps of Candidate Elimination Algorithm:  4\n",
            "Specific_h:  4\n",
            "['Sunny' 'Warm' 'Normal' 'Strong' 'Warm' 'Same'] \n",
            "\n",
            "general_h : 4\n",
            "[['?', '?', '?', '?', '?', '?'], ['?', '?', '?', '?', '?', '?'], ['?', '?', '?', '?', '?', '?'], ['?', '?', '?', '?', '?', '?'], ['?', '?', '?', '?', '?', '?'], ['?', '?', '?', '?', '?', '?']]\n",
            "\n",
            "Indices [0, 1, 2, 3, 4, 5]\n",
            "\n",
            "Final Specific_h:\n",
            "['Sunny' 'Warm' 'Normal' 'Strong' 'Warm' 'Same']\n",
            "Final General_h:\n",
            "[]\n"
          ],
          "name": "stdout"
        }
      ]
    },
    {
      "cell_type": "code",
      "metadata": {
        "id": "NRhGA7ijjAEl"
      },
      "source": [
        ""
      ],
      "execution_count": null,
      "outputs": []
    }
  ]
}