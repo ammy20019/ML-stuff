{
  "nbformat": 4,
  "nbformat_minor": 0,
  "metadata": {
    "colab": {
      "name": "Copy of ML Data Preprocessing.ipynb",
      "provenance": [],
      "collapsed_sections": []
    },
    "kernelspec": {
      "name": "python3",
      "display_name": "Python 3"
    }
  },
  "cells": [
    {
      "cell_type": "markdown",
      "metadata": {
        "id": "mLmvJ74NpgI8"
      },
      "source": [
        "Data Quality Issues:\r\n",
        "Poor data quality can have an adverse effect on data mining. Among the common data quality issues include noise, outliers, missing values, and duplicate data. Python code to alleviate some of these data quality problems. We begin with an example dataset from the UCI machine learning repository containing information about breast cancer patients. We will first download the dataset using Pandas read_csv() function and display its first 5 data points."
      ]
    },
    {
      "cell_type": "code",
      "metadata": {
        "colab": {
          "base_uri": "https://localhost:8080/",
          "height": 271
        },
        "id": "g3HbpYZtmnO4",
        "outputId": "d67f9f83-c3e8-479e-c514-f52c6a034992"
      },
      "source": [
        "import pandas as pd\r\n",
        "data = pd.read_csv('https://archive.ics.uci.edu/ml/machine-learning-databases/breast-cancer-wisconsin/breast-cancer-wisconsin.data', header=None)\r\n",
        "data.columns = ['Sample code', 'Clump Thickness', 'Uniformity of Cell Size', 'Uniformity of Cell Shape',\r\n",
        "                'Marginal Adhesion', 'Single Epithelial Cell Size', 'Bare Nuclei', 'Bland Chromatin',\r\n",
        "                'Normal Nucleoli', 'Mitoses','Class']\r\n",
        "\r\n",
        "data = data.drop(['Sample code'],axis=1)\r\n",
        "print('Number of instances = %d' % (data.shape[0]))\r\n",
        "print('Number of attributes = %d' % (data.shape[1]))\r\n",
        "data.head()"
      ],
      "execution_count": null,
      "outputs": [
        {
          "output_type": "stream",
          "text": [
            "Number of instances = 699\n",
            "Number of attributes = 10\n"
          ],
          "name": "stdout"
        },
        {
          "output_type": "execute_result",
          "data": {
            "text/html": [
              "<div>\n",
              "<style scoped>\n",
              "    .dataframe tbody tr th:only-of-type {\n",
              "        vertical-align: middle;\n",
              "    }\n",
              "\n",
              "    .dataframe tbody tr th {\n",
              "        vertical-align: top;\n",
              "    }\n",
              "\n",
              "    .dataframe thead th {\n",
              "        text-align: right;\n",
              "    }\n",
              "</style>\n",
              "<table border=\"1\" class=\"dataframe\">\n",
              "  <thead>\n",
              "    <tr style=\"text-align: right;\">\n",
              "      <th></th>\n",
              "      <th>Clump Thickness</th>\n",
              "      <th>Uniformity of Cell Size</th>\n",
              "      <th>Uniformity of Cell Shape</th>\n",
              "      <th>Marginal Adhesion</th>\n",
              "      <th>Single Epithelial Cell Size</th>\n",
              "      <th>Bare Nuclei</th>\n",
              "      <th>Bland Chromatin</th>\n",
              "      <th>Normal Nucleoli</th>\n",
              "      <th>Mitoses</th>\n",
              "      <th>Class</th>\n",
              "    </tr>\n",
              "  </thead>\n",
              "  <tbody>\n",
              "    <tr>\n",
              "      <th>0</th>\n",
              "      <td>5</td>\n",
              "      <td>1</td>\n",
              "      <td>1</td>\n",
              "      <td>1</td>\n",
              "      <td>2</td>\n",
              "      <td>1</td>\n",
              "      <td>3</td>\n",
              "      <td>1</td>\n",
              "      <td>1</td>\n",
              "      <td>2</td>\n",
              "    </tr>\n",
              "    <tr>\n",
              "      <th>1</th>\n",
              "      <td>5</td>\n",
              "      <td>4</td>\n",
              "      <td>4</td>\n",
              "      <td>5</td>\n",
              "      <td>7</td>\n",
              "      <td>10</td>\n",
              "      <td>3</td>\n",
              "      <td>2</td>\n",
              "      <td>1</td>\n",
              "      <td>2</td>\n",
              "    </tr>\n",
              "    <tr>\n",
              "      <th>2</th>\n",
              "      <td>3</td>\n",
              "      <td>1</td>\n",
              "      <td>1</td>\n",
              "      <td>1</td>\n",
              "      <td>2</td>\n",
              "      <td>2</td>\n",
              "      <td>3</td>\n",
              "      <td>1</td>\n",
              "      <td>1</td>\n",
              "      <td>2</td>\n",
              "    </tr>\n",
              "    <tr>\n",
              "      <th>3</th>\n",
              "      <td>6</td>\n",
              "      <td>8</td>\n",
              "      <td>8</td>\n",
              "      <td>1</td>\n",
              "      <td>3</td>\n",
              "      <td>4</td>\n",
              "      <td>3</td>\n",
              "      <td>7</td>\n",
              "      <td>1</td>\n",
              "      <td>2</td>\n",
              "    </tr>\n",
              "    <tr>\n",
              "      <th>4</th>\n",
              "      <td>4</td>\n",
              "      <td>1</td>\n",
              "      <td>1</td>\n",
              "      <td>3</td>\n",
              "      <td>2</td>\n",
              "      <td>1</td>\n",
              "      <td>3</td>\n",
              "      <td>1</td>\n",
              "      <td>1</td>\n",
              "      <td>2</td>\n",
              "    </tr>\n",
              "  </tbody>\n",
              "</table>\n",
              "</div>"
            ],
            "text/plain": [
              "   Clump Thickness  Uniformity of Cell Size  ...  Mitoses  Class\n",
              "0                5                        1  ...        1      2\n",
              "1                5                        4  ...        1      2\n",
              "2                3                        1  ...        1      2\n",
              "3                6                        8  ...        1      2\n",
              "4                4                        1  ...        1      2\n",
              "\n",
              "[5 rows x 10 columns]"
            ]
          },
          "metadata": {
            "tags": []
          },
          "execution_count": 2
        }
      ]
    },
    {
      "cell_type": "markdown",
      "metadata": {
        "id": "XA43ZdfZp0A3"
      },
      "source": [
        "Missing Values\r\n",
        "It is not unusual for an object to be missing one or more attribute values. In some cases, the information was not collected; while in other cases, some attributes are inapplicable to the data instances. This section presents examples on the different approaches for handling missing values.\r\n",
        "\r\n",
        "According to the description of the data (https://archive.ics.uci.edu/ml/datasets/breast+cancer+wisconsin+(original), the missing values are encoded as '?' in the original data. Our first task is to convert the missing values to NaNs. We can then count the number of missing values in each column of the data."
      ]
    },
    {
      "cell_type": "code",
      "metadata": {
        "colab": {
          "base_uri": "https://localhost:8080/"
        },
        "id": "WUvLRfcyoMhB",
        "outputId": "f69d4c7e-af7d-4ad9-dc36-d4cd865b842e"
      },
      "source": [
        "import numpy as np\r\n",
        "\r\n",
        "data = data.replace('?',np.NaN)\r\n",
        "\r\n",
        "print('Number of instances = %d' % (data.shape[0]))\r\n",
        "print('Number of attributes = %d' % (data.shape[1]))\r\n",
        "\r\n",
        "print('Number of missing values:')\r\n",
        "for col in data.columns:\r\n",
        "    print('\\t%s: %d' % (col,data[col].isna().sum()))"
      ],
      "execution_count": null,
      "outputs": [
        {
          "output_type": "stream",
          "text": [
            "Number of instances = 699\n",
            "Number of attributes = 10\n",
            "Number of missing values:\n",
            "\tClump Thickness: 0\n",
            "\tUniformity of Cell Size: 0\n",
            "\tUniformity of Cell Shape: 0\n",
            "\tMarginal Adhesion: 0\n",
            "\tSingle Epithelial Cell Size: 0\n",
            "\tBare Nuclei: 16\n",
            "\tBland Chromatin: 0\n",
            "\tNormal Nucleoli: 0\n",
            "\tMitoses: 0\n",
            "\tClass: 0\n"
          ],
          "name": "stdout"
        }
      ]
    },
    {
      "cell_type": "markdown",
      "metadata": {
        "id": "OyT3QZj2qAl5"
      },
      "source": [
        "Observe that only the 'Bare Nuclei' column contains missing values. In the following example, the missing values in the 'Bare Nuclei' column are replaced by the median value of that column. The values before and after replacement are shown for a subset of the data points.\r\n"
      ]
    },
    {
      "cell_type": "code",
      "metadata": {
        "colab": {
          "base_uri": "https://localhost:8080/"
        },
        "id": "vGQcFYL9oMjq",
        "outputId": "1cccbc1a-6c90-4c5a-9716-1882968450f1"
      },
      "source": [
        "data2 = data['Bare Nuclei']\r\n",
        "\r\n",
        "print('Before replacing missing values:')\r\n",
        "print(data2[20:25])\r\n",
        "data2 = data2.fillna(data2.median())\r\n",
        "\r\n",
        "print('\\nAfter replacing missing values:')\r\n",
        "print(data2[20:25])"
      ],
      "execution_count": null,
      "outputs": [
        {
          "output_type": "stream",
          "text": [
            "Before replacing missing values:\n",
            "20     10\n",
            "21      7\n",
            "22      1\n",
            "23    NaN\n",
            "24      1\n",
            "Name: Bare Nuclei, dtype: object\n",
            "\n",
            "After replacing missing values:\n",
            "20    10\n",
            "21     7\n",
            "22     1\n",
            "23     1\n",
            "24     1\n",
            "Name: Bare Nuclei, dtype: object\n"
          ],
          "name": "stdout"
        }
      ]
    },
    {
      "cell_type": "markdown",
      "metadata": {
        "id": "Vjh_RFB0qKUP"
      },
      "source": [
        "Instead of replacing the missing values, another common approach is to discard the data points that contain missing values. This can be easily accomplished by applying the dropna() function to the data frame.\r\n"
      ]
    },
    {
      "cell_type": "markdown",
      "metadata": {
        "id": "bK0V3ZNuqTek"
      },
      "source": [
        ""
      ]
    },
    {
      "cell_type": "code",
      "metadata": {
        "colab": {
          "base_uri": "https://localhost:8080/"
        },
        "id": "xWwWmDU7oMmP",
        "outputId": "70fc7a19-45d3-414f-c656-108eec0a5f0c"
      },
      "source": [
        "print('Number of rows in original data = %d' % (data.shape[0]))\r\n",
        "\r\n",
        "data2 = data.dropna()\r\n",
        "print('Number of rows after discarding missing values = %d' % (data2.shape[0]))"
      ],
      "execution_count": null,
      "outputs": [
        {
          "output_type": "stream",
          "text": [
            "Number of rows in original data = 699\n",
            "Number of rows after discarding missing values = 683\n"
          ],
          "name": "stdout"
        }
      ]
    },
    {
      "cell_type": "markdown",
      "metadata": {
        "id": "uTCzJgg-qfjZ"
      },
      "source": [
        "Outliers\r\n",
        "Outliers are data instances with characteristics that are considerably different from the rest of the dataset. In the example code below, we will draw a boxplot to identify the columns in the table that contain outliers. Note that the values in all columns (except for 'Bare Nuclei') are originally stored as 'int64' whereas the values in the 'Bare Nuclei' column are stored as string objects (since the column initially contains strings such as '?' for representing missing values). Thus, we must convert the column into numeric values first before creating the boxplot. Otherwise, the column will not be displayed when drawing the boxplot.\r\n",
        "\r\n"
      ]
    },
    {
      "cell_type": "code",
      "metadata": {
        "colab": {
          "base_uri": "https://localhost:8080/",
          "height": 250
        },
        "id": "Ev7tXU90oMo1",
        "outputId": "e099cd98-0260-43ec-90bc-cfad5a3f9505"
      },
      "source": [
        "%matplotlib inline\r\n",
        "\r\n",
        "data2 = data.drop(['Class'],axis=1)\r\n",
        "data2['Bare Nuclei'] = pd.to_numeric(data2['Bare Nuclei'])\r\n",
        "data2.boxplot(figsize=(20,3))"
      ],
      "execution_count": null,
      "outputs": [
        {
          "output_type": "stream",
          "text": [
            "/usr/local/lib/python3.6/dist-packages/numpy/core/_asarray.py:83: VisibleDeprecationWarning: Creating an ndarray from ragged nested sequences (which is a list-or-tuple of lists-or-tuples-or ndarrays with different lengths or shapes) is deprecated. If you meant to do this, you must specify 'dtype=object' when creating the ndarray\n",
            "  return array(a, dtype, copy=False, order=order)\n"
          ],
          "name": "stderr"
        },
        {
          "output_type": "execute_result",
          "data": {
            "text/plain": [
              "<matplotlib.axes._subplots.AxesSubplot at 0x7f9e6ba8c6d8>"
            ]
          },
          "metadata": {
            "tags": []
          },
          "execution_count": 6
        },
        {
          "output_type": "display_data",
          "data": {
            "image/png": "[encoded data removed]",
            "text/plain": [
              "<Figure size 1440x216 with 1 Axes>"
            ]
          },
          "metadata": {
            "tags": [],
            "needs_background": "light"
          }
        }
      ]
    },
    {
      "cell_type": "markdown",
      "metadata": {
        "id": "QmNL34ivqn-W"
      },
      "source": [
        "The boxplots suggest that only 5 of the columns (Marginal Adhesion, Single Epithetial Cell Size, Bland Cromatin, Normal Nucleoli, and Mitoses) contain abnormally high values. To discard the outliers, we can compute the Z-score for each attribute and remove those instances containing attributes with abnormally high or low Z-score (e.g., if Z > 3 or Z <= -3).\r\n",
        "\r\n",
        "\r\n",
        "The following code shows the results of standardizing the columns of the data. Note that missing values (NaN) are not affected by the standardization process."
      ]
    },
    {
      "cell_type": "code",
      "metadata": {
        "colab": {
          "base_uri": "https://localhost:8080/",
          "height": 219
        },
        "id": "kB7zwMBVoMrP",
        "outputId": "5677d182-d555-42af-c656-66699ee1ffb7"
      },
      "source": [
        "Z = (data2-data2.mean())/data2.std()\r\n",
        "Z[20:25]"
      ],
      "execution_count": null,
      "outputs": [
        {
          "output_type": "execute_result",
          "data": {
            "text/html": [
              "<div>\n",
              "<style scoped>\n",
              "    .dataframe tbody tr th:only-of-type {\n",
              "        vertical-align: middle;\n",
              "    }\n",
              "\n",
              "    .dataframe tbody tr th {\n",
              "        vertical-align: top;\n",
              "    }\n",
              "\n",
              "    .dataframe thead th {\n",
              "        text-align: right;\n",
              "    }\n",
              "</style>\n",
              "<table border=\"1\" class=\"dataframe\">\n",
              "  <thead>\n",
              "    <tr style=\"text-align: right;\">\n",
              "      <th></th>\n",
              "      <th>Clump Thickness</th>\n",
              "      <th>Uniformity of Cell Size</th>\n",
              "      <th>Uniformity of Cell Shape</th>\n",
              "      <th>Marginal Adhesion</th>\n",
              "      <th>Single Epithelial Cell Size</th>\n",
              "      <th>Bare Nuclei</th>\n",
              "      <th>Bland Chromatin</th>\n",
              "      <th>Normal Nucleoli</th>\n",
              "      <th>Mitoses</th>\n",
              "    </tr>\n",
              "  </thead>\n",
              "  <tbody>\n",
              "    <tr>\n",
              "      <th>20</th>\n",
              "      <td>0.917080</td>\n",
              "      <td>-0.044070</td>\n",
              "      <td>-0.406284</td>\n",
              "      <td>2.519152</td>\n",
              "      <td>0.805662</td>\n",
              "      <td>1.771569</td>\n",
              "      <td>0.640688</td>\n",
              "      <td>0.371049</td>\n",
              "      <td>1.405526</td>\n",
              "    </tr>\n",
              "    <tr>\n",
              "      <th>21</th>\n",
              "      <td>1.982519</td>\n",
              "      <td>0.611354</td>\n",
              "      <td>0.603167</td>\n",
              "      <td>0.067638</td>\n",
              "      <td>1.257272</td>\n",
              "      <td>0.948266</td>\n",
              "      <td>1.460910</td>\n",
              "      <td>2.335921</td>\n",
              "      <td>-0.343666</td>\n",
              "    </tr>\n",
              "    <tr>\n",
              "      <th>22</th>\n",
              "      <td>-0.503505</td>\n",
              "      <td>-0.699494</td>\n",
              "      <td>-0.742767</td>\n",
              "      <td>-0.632794</td>\n",
              "      <td>-0.549168</td>\n",
              "      <td>-0.698341</td>\n",
              "      <td>-0.589645</td>\n",
              "      <td>-0.611387</td>\n",
              "      <td>-0.343666</td>\n",
              "    </tr>\n",
              "    <tr>\n",
              "      <th>23</th>\n",
              "      <td>1.272227</td>\n",
              "      <td>0.283642</td>\n",
              "      <td>0.603167</td>\n",
              "      <td>-0.632794</td>\n",
              "      <td>-0.549168</td>\n",
              "      <td>NaN</td>\n",
              "      <td>1.460910</td>\n",
              "      <td>0.043570</td>\n",
              "      <td>-0.343666</td>\n",
              "    </tr>\n",
              "    <tr>\n",
              "      <th>24</th>\n",
              "      <td>-1.213798</td>\n",
              "      <td>-0.699494</td>\n",
              "      <td>-0.742767</td>\n",
              "      <td>-0.632794</td>\n",
              "      <td>-0.549168</td>\n",
              "      <td>-0.698341</td>\n",
              "      <td>-0.179534</td>\n",
              "      <td>-0.611387</td>\n",
              "      <td>-0.343666</td>\n",
              "    </tr>\n",
              "  </tbody>\n",
              "</table>\n",
              "</div>"
            ],
            "text/plain": [
              "    Clump Thickness  Uniformity of Cell Size  ...  Normal Nucleoli   Mitoses\n",
              "20         0.917080                -0.044070  ...         0.371049  1.405526\n",
              "21         1.982519                 0.611354  ...         2.335921 -0.343666\n",
              "22        -0.503505                -0.699494  ...        -0.611387 -0.343666\n",
              "23         1.272227                 0.283642  ...         0.043570 -0.343666\n",
              "24        -1.213798                -0.699494  ...        -0.611387 -0.343666\n",
              "\n",
              "[5 rows x 9 columns]"
            ]
          },
          "metadata": {
            "tags": []
          },
          "execution_count": 7
        }
      ]
    },
    {
      "cell_type": "markdown",
      "metadata": {
        "id": "Jvf54DmJq0Qc"
      },
      "source": [
        "The following code shows the results of discarding columns with Z > 3 or Z <= -3."
      ]
    },
    {
      "cell_type": "code",
      "metadata": {
        "colab": {
          "base_uri": "https://localhost:8080/"
        },
        "id": "Bpyq4RNPoMtk",
        "outputId": "6226944a-3e62-4cde-c60b-d327cbed8cc5"
      },
      "source": [
        "print('Number of rows before discarding outliers = %d' % (Z.shape[0]))\r\n",
        "\r\n",
        "Z2 = Z.loc[((Z > -3).sum(axis=1)==9) & ((Z <= 3).sum(axis=1)==9),:]\r\n",
        "print('Number of rows after discarding missing values = %d' % (Z2.shape[0]))"
      ],
      "execution_count": null,
      "outputs": [
        {
          "output_type": "stream",
          "text": [
            "Number of rows before discarding outliers = 699\n",
            "Number of rows after discarding missing values = 632\n"
          ],
          "name": "stdout"
        }
      ]
    },
    {
      "cell_type": "markdown",
      "metadata": {
        "id": "GgcM8jTIq8nC"
      },
      "source": [
        "Duplicate Data\r\n",
        "Some datasets, especially those obtained by merging multiple data sources, may contain duplicates or near duplicate instances. The term deduplication is often used to refer to the process of dealing with duplicate data issues.\r\n",
        "\r\n",
        "In the following example, we first check for duplicate instances in the breast cancer dataset.\r\n"
      ]
    },
    {
      "cell_type": "code",
      "metadata": {
        "colab": {
          "base_uri": "https://localhost:8080/",
          "height": 161
        },
        "id": "5CNdNaR9oMvX",
        "outputId": "474ca97a-52eb-4501-a5e1-976c050638db"
      },
      "source": [
        "dups = data.duplicated()\r\n",
        "print('Number of duplicate rows = %d' % (dups.sum()))\r\n",
        "data.loc[[11,28]]"
      ],
      "execution_count": null,
      "outputs": [
        {
          "output_type": "stream",
          "text": [
            "Number of duplicate rows = 236\n"
          ],
          "name": "stdout"
        },
        {
          "output_type": "execute_result",
          "data": {
            "text/html": [
              "<div>\n",
              "<style scoped>\n",
              "    .dataframe tbody tr th:only-of-type {\n",
              "        vertical-align: middle;\n",
              "    }\n",
              "\n",
              "    .dataframe tbody tr th {\n",
              "        vertical-align: top;\n",
              "    }\n",
              "\n",
              "    .dataframe thead th {\n",
              "        text-align: right;\n",
              "    }\n",
              "</style>\n",
              "<table border=\"1\" class=\"dataframe\">\n",
              "  <thead>\n",
              "    <tr style=\"text-align: right;\">\n",
              "      <th></th>\n",
              "      <th>Clump Thickness</th>\n",
              "      <th>Uniformity of Cell Size</th>\n",
              "      <th>Uniformity of Cell Shape</th>\n",
              "      <th>Marginal Adhesion</th>\n",
              "      <th>Single Epithelial Cell Size</th>\n",
              "      <th>Bare Nuclei</th>\n",
              "      <th>Bland Chromatin</th>\n",
              "      <th>Normal Nucleoli</th>\n",
              "      <th>Mitoses</th>\n",
              "      <th>Class</th>\n",
              "    </tr>\n",
              "  </thead>\n",
              "  <tbody>\n",
              "    <tr>\n",
              "      <th>11</th>\n",
              "      <td>2</td>\n",
              "      <td>1</td>\n",
              "      <td>1</td>\n",
              "      <td>1</td>\n",
              "      <td>2</td>\n",
              "      <td>1</td>\n",
              "      <td>2</td>\n",
              "      <td>1</td>\n",
              "      <td>1</td>\n",
              "      <td>2</td>\n",
              "    </tr>\n",
              "    <tr>\n",
              "      <th>28</th>\n",
              "      <td>2</td>\n",
              "      <td>1</td>\n",
              "      <td>1</td>\n",
              "      <td>1</td>\n",
              "      <td>2</td>\n",
              "      <td>1</td>\n",
              "      <td>2</td>\n",
              "      <td>1</td>\n",
              "      <td>1</td>\n",
              "      <td>2</td>\n",
              "    </tr>\n",
              "  </tbody>\n",
              "</table>\n",
              "</div>"
            ],
            "text/plain": [
              "    Clump Thickness  Uniformity of Cell Size  ...  Mitoses  Class\n",
              "11                2                        1  ...        1      2\n",
              "28                2                        1  ...        1      2\n",
              "\n",
              "[2 rows x 10 columns]"
            ]
          },
          "metadata": {
            "tags": []
          },
          "execution_count": 9
        }
      ]
    },
    {
      "cell_type": "markdown",
      "metadata": {
        "id": "BM9bktM9rFgT"
      },
      "source": [
        "The duplicated() function will return a Boolean array that indicates whether each row is a duplicate of a previous row in the table. The results suggest there are 236 duplicate rows in the breast cancer dataset. For example, the instance with row index 11 has identical attribute values as the instance with row index 28. Although such duplicate rows may correspond to samples for different individuals, in this hypothetical example, we assume that the duplicates are samples taken from the same individual and illustrate below how to remove the duplicated rows."
      ]
    },
    {
      "cell_type": "code",
      "metadata": {
        "colab": {
          "base_uri": "https://localhost:8080/"
        },
        "id": "KJISM8XwoMx8",
        "outputId": "b16529c1-f55f-4099-a80d-8900259e8523"
      },
      "source": [
        "print('Number of rows before discarding duplicates = %d' % (data.shape[0]))\r\n",
        "data2 = data.drop_duplicates()\r\n",
        "print('Number of rows after discarding duplicates = %d' % (data2.shape[0]))"
      ],
      "execution_count": null,
      "outputs": [
        {
          "output_type": "stream",
          "text": [
            "Number of rows before discarding duplicates = 699\n",
            "Number of rows after discarding duplicates = 463\n"
          ],
          "name": "stdout"
        }
      ]
    },
    {
      "cell_type": "code",
      "metadata": {
        "id": "V4wEA65AoM2Y"
      },
      "source": [
        ""
      ],
      "execution_count": null,
      "outputs": []
    },
    {
      "cell_type": "code",
      "metadata": {
        "id": "LYxqw9jIoM4W"
      },
      "source": [
        ""
      ],
      "execution_count": null,
      "outputs": []
    },
    {
      "cell_type": "code",
      "metadata": {
        "id": "_dt01HgMoM6w"
      },
      "source": [
        ""
      ],
      "execution_count": null,
      "outputs": []
    }
  ]
}